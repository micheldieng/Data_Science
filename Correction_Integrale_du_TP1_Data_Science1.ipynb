{
 "cells": [
  {
   "cell_type": "markdown",
   "id": "87bed3c5",
   "metadata": {},
   "source": [
    " # Michael's Personal Work"
   ]
  },
  {
   "cell_type": "markdown",
   "id": "3682b3e4",
   "metadata": {},
   "source": [
    "# Exercice1"
   ]
  },
  {
   "cell_type": "markdown",
   "id": "83a66f18",
   "metadata": {},
   "source": [
    "## 1. Créer un Dataframe qui ressemble à ceci :"
   ]
  },
  {
   "cell_type": "code",
   "execution_count": 1,
   "id": "1ba91508",
   "metadata": {},
   "outputs": [
    {
     "data": {
      "text/html": [
       "<div><div id=407965bc-06f6-4050-81e5-ccae4489e7a4 style=\"display:none; background-color:#9D6CFF; color:white; width:200px; height:30px; padding-left:5px; border-radius:4px; flex-direction:row; justify-content:space-around; align-items:center;\" onmouseover=\"this.style.backgroundColor='#BA9BF8'\" onmouseout=\"this.style.backgroundColor='#9D6CFF'\" onclick=\"window.commands?.execute('create-mitosheet-from-dataframe-output');\">See Full Dataframe in Mito</div> <script> if (window.commands.hasCommand('create-mitosheet-from-dataframe-output')) document.getElementById('407965bc-06f6-4050-81e5-ccae4489e7a4').style.display = 'flex' </script> <table border=\"1\" class=\"dataframe\">\n",
       "  <thead>\n",
       "    <tr style=\"text-align: right;\">\n",
       "      <th></th>\n",
       "      <th>Nom</th>\n",
       "      <th>Age</th>\n",
       "      <th>Poids</th>\n",
       "      <th>Taille</th>\n",
       "      <th>Genre</th>\n",
       "    </tr>\n",
       "  </thead>\n",
       "  <tbody>\n",
       "    <tr>\n",
       "      <th>0</th>\n",
       "      <td>Doudou</td>\n",
       "      <td>10</td>\n",
       "      <td>75</td>\n",
       "      <td>4.5</td>\n",
       "      <td>M</td>\n",
       "    </tr>\n",
       "    <tr>\n",
       "      <th>1</th>\n",
       "      <td>Amy</td>\n",
       "      <td>15</td>\n",
       "      <td>123</td>\n",
       "      <td>5.0</td>\n",
       "      <td>F</td>\n",
       "    </tr>\n",
       "    <tr>\n",
       "      <th>2</th>\n",
       "      <td>Moussa</td>\n",
       "      <td>20</td>\n",
       "      <td>239</td>\n",
       "      <td>6.1</td>\n",
       "      <td>M</td>\n",
       "    </tr>\n",
       "  </tbody>\n",
       "</table></div>"
      ],
      "text/plain": [
       "      Nom  Age  Poids  Taille Genre\n",
       "0  Doudou   10     75     4.5     M\n",
       "1     Amy   15    123     5.0     F\n",
       "2  Moussa   20    239     6.1     M"
      ]
     },
     "execution_count": 1,
     "metadata": {},
     "output_type": "execute_result"
    }
   ],
   "source": [
    "import numpy as np\n",
    "import pandas as pd\n",
    "Names=[\"Doudou\",\"Amy\",\"Moussa\"]\n",
    "dico={\"Nom\" : Names,\n",
    "\"Age\" :[10,15,20],\"Poids\" :[75,123,239],\"Taille\" :[4.5,5.0,6.1],\"Genre\" :[\"M\",\"F\",\"M\"]}\n",
    "df=pd.DataFrame(dico)\n",
    "df"
   ]
  },
  {
   "cell_type": "markdown",
   "id": "36298ec9",
   "metadata": {},
   "source": [
    "## 2. Créez un DataFrame animaux qui correspond au diagramme ci-dessous:\n"
   ]
  },
  {
   "cell_type": "code",
   "execution_count": 2,
   "id": "53a6f7b5",
   "metadata": {},
   "outputs": [
    {
     "data": {
      "text/html": [
       "<div><div id=05052a45-0b6a-47b8-a0b4-a39a7c08c9f0 style=\"display:none; background-color:#9D6CFF; color:white; width:200px; height:30px; padding-left:5px; border-radius:4px; flex-direction:row; justify-content:space-around; align-items:center;\" onmouseover=\"this.style.backgroundColor='#BA9BF8'\" onmouseout=\"this.style.backgroundColor='#9D6CFF'\" onclick=\"window.commands?.execute('create-mitosheet-from-dataframe-output');\">See Full Dataframe in Mito</div> <script> if (window.commands.hasCommand('create-mitosheet-from-dataframe-output')) document.getElementById('05052a45-0b6a-47b8-a0b4-a39a7c08c9f0').style.display = 'flex' </script> <table border=\"1\" class=\"dataframe\">\n",
       "  <thead>\n",
       "    <tr style=\"text-align: right;\">\n",
       "      <th></th>\n",
       "      <th>Vaches</th>\n",
       "      <th>Chevres</th>\n",
       "    </tr>\n",
       "  </thead>\n",
       "  <tbody>\n",
       "    <tr>\n",
       "      <th>an1</th>\n",
       "      <td>12</td>\n",
       "      <td>22</td>\n",
       "    </tr>\n",
       "    <tr>\n",
       "      <th>an2</th>\n",
       "      <td>20</td>\n",
       "      <td>19</td>\n",
       "    </tr>\n",
       "  </tbody>\n",
       "</table></div>"
      ],
      "text/plain": [
       "     Vaches  Chevres\n",
       "an1      12       22\n",
       "an2      20       19"
      ]
     },
     "execution_count": 2,
     "metadata": {},
     "output_type": "execute_result"
    }
   ],
   "source": [
    "import numpy as np\n",
    "import pandas as pd\n",
    "ar = np.array([[12,22],[20,19]])\n",
    "animaux = pd.DataFrame(ar, index = ['an1','an2'], columns = ['Vaches','Chevres'])\n",
    "animaux"
   ]
  },
  {
   "cell_type": "markdown",
   "id": "d5a4db99",
   "metadata": {},
   "source": [
    "## 3. Enregistrer le DataFrame de la question 2 sur le disque dur en tant que fichier csv sous le nom vache_chevre.csv"
   ]
  },
  {
   "cell_type": "code",
   "execution_count": 3,
   "id": "956d51d4",
   "metadata": {},
   "outputs": [],
   "source": [
    "animaux.to_csv(\"vache_chevre.csv\")"
   ]
  },
  {
   "cell_type": "markdown",
   "id": "1f44460b",
   "metadata": {},
   "source": [
    "## 4. Transformer le fichier de la question 3 en DataFrame pour obtenir le résultat suivant."
   ]
  },
  {
   "cell_type": "code",
   "execution_count": 4,
   "id": "dd2eb43b",
   "metadata": {},
   "outputs": [
    {
     "data": {
      "text/html": [
       "<div><div id=e8511b22-2798-4006-9176-11ca09310ab0 style=\"display:none; background-color:#9D6CFF; color:white; width:200px; height:30px; padding-left:5px; border-radius:4px; flex-direction:row; justify-content:space-around; align-items:center;\" onmouseover=\"this.style.backgroundColor='#BA9BF8'\" onmouseout=\"this.style.backgroundColor='#9D6CFF'\" onclick=\"window.commands?.execute('create-mitosheet-from-dataframe-output');\">See Full Dataframe in Mito</div> <script> if (window.commands.hasCommand('create-mitosheet-from-dataframe-output')) document.getElementById('e8511b22-2798-4006-9176-11ca09310ab0').style.display = 'flex' </script> <table border=\"1\" class=\"dataframe\">\n",
       "  <thead>\n",
       "    <tr style=\"text-align: right;\">\n",
       "      <th></th>\n",
       "      <th>Vaches</th>\n",
       "      <th>Chevres</th>\n",
       "    </tr>\n",
       "  </thead>\n",
       "  <tbody>\n",
       "    <tr>\n",
       "      <th>an1</th>\n",
       "      <td>12</td>\n",
       "      <td>22</td>\n",
       "    </tr>\n",
       "    <tr>\n",
       "      <th>an2</th>\n",
       "      <td>20</td>\n",
       "      <td>19</td>\n",
       "    </tr>\n",
       "  </tbody>\n",
       "</table></div>"
      ],
      "text/plain": [
       "     Vaches  Chevres\n",
       "an1      12       22\n",
       "an2      20       19"
      ]
     },
     "execution_count": 4,
     "metadata": {},
     "output_type": "execute_result"
    }
   ],
   "source": [
    "import pandas as pd\n",
    "R=pd.read_csv(\"vache_chevre.csv\",index_col=0)\n",
    "R"
   ]
  },
  {
   "cell_type": "markdown",
   "id": "302049b4",
   "metadata": {},
   "source": [
    "# Exercice 2"
   ]
  },
  {
   "cell_type": "markdown",
   "id": "1447c220",
   "metadata": {},
   "source": [
    "## 1. Importer le fichier boissons_evaluees.csv.\n"
   ]
  },
  {
   "cell_type": "code",
   "execution_count": 5,
   "id": "afdb606e",
   "metadata": {},
   "outputs": [
    {
     "name": "stdout",
     "output_type": "stream",
     "text": [
      "C:\\Users\\User\n"
     ]
    }
   ],
   "source": [
    "# Importation du système\n",
    "import os\n",
    "# Récupération du répertoire de travail\n",
    "#(cwd : current working directory)\n",
    "cwd = os.getcwd()\n",
    "print(cwd)\n",
    "# Changement de répertoire\n",
    "os.chdir(\"C:\\\\Users\\\\User\\\\OneDrive\\\\Bureau\\\\WorkSpace19\")"
   ]
  },
  {
   "cell_type": "code",
   "execution_count": 6,
   "id": "6078aa4b",
   "metadata": {},
   "outputs": [
    {
     "name": "stdout",
     "output_type": "stream",
     "text": [
      "        Unnamed: 0   country  \\\n",
      "0                0     Italy   \n",
      "1                1  Portugal   \n",
      "2                2        US   \n",
      "3                3        US   \n",
      "4                4        US   \n",
      "...            ...       ...   \n",
      "129966      129966   Germany   \n",
      "129967      129967        US   \n",
      "129968      129968    France   \n",
      "129969      129969    France   \n",
      "129970      129970    France   \n",
      "\n",
      "                                              description  \\\n",
      "0       Aromas include tropical fruit, broom, brimston...   \n",
      "1       This is ripe and fruity, a wine that is smooth...   \n",
      "2       Tart and snappy, the flavors of lime flesh and...   \n",
      "3       Pineapple rind, lemon pith and orange blossom ...   \n",
      "4       Much like the regular bottling from 2012, this...   \n",
      "...                                                   ...   \n",
      "129966  Notes of honeysuckle and cantaloupe sweeten th...   \n",
      "129967  Citation is given as much as a decade of bottl...   \n",
      "129968  Well-drained gravel soil gives this wine its c...   \n",
      "129969  A dry style of Pinot Gris, this is crisp with ...   \n",
      "129970  Big, rich and off-dry, this is powered by inte...   \n",
      "\n",
      "                                   designation  points  price  \\\n",
      "0                                 Vulkà Bianco      87    NaN   \n",
      "1                                     Avidagos      87   15.0   \n",
      "2                                          NaN      87   14.0   \n",
      "3                         Reserve Late Harvest      87   13.0   \n",
      "4           Vintner's Reserve Wild Child Block      87   65.0   \n",
      "...                                        ...     ...    ...   \n",
      "129966  Brauneberger Juffer-Sonnenuhr Spätlese      90   28.0   \n",
      "129967                                     NaN      90   75.0   \n",
      "129968                                   Kritt      90   30.0   \n",
      "129969                                     NaN      90   32.0   \n",
      "129970           Lieu-dit Harth Cuvée Caroline      90   21.0   \n",
      "\n",
      "                 province             region_1           region_2  \\\n",
      "0       Sicily & Sardinia                 Etna                NaN   \n",
      "1                   Douro                  NaN                NaN   \n",
      "2                  Oregon    Willamette Valley  Willamette Valley   \n",
      "3                Michigan  Lake Michigan Shore                NaN   \n",
      "4                  Oregon    Willamette Valley  Willamette Valley   \n",
      "...                   ...                  ...                ...   \n",
      "129966              Mosel                  NaN                NaN   \n",
      "129967             Oregon               Oregon       Oregon Other   \n",
      "129968             Alsace               Alsace                NaN   \n",
      "129969             Alsace               Alsace                NaN   \n",
      "129970             Alsace               Alsace                NaN   \n",
      "\n",
      "               taster_name taster_twitter_handle  \\\n",
      "0            Kerin O’Keefe          @kerinokeefe   \n",
      "1               Roger Voss            @vossroger   \n",
      "2             Paul Gregutt           @paulgwine    \n",
      "3       Alexander Peartree                   NaN   \n",
      "4             Paul Gregutt           @paulgwine    \n",
      "...                    ...                   ...   \n",
      "129966  Anna Lee C. Iijima                   NaN   \n",
      "129967        Paul Gregutt           @paulgwine    \n",
      "129968          Roger Voss            @vossroger   \n",
      "129969          Roger Voss            @vossroger   \n",
      "129970          Roger Voss            @vossroger   \n",
      "\n",
      "                                                    title         variety  \\\n",
      "0                       Nicosia 2013 Vulkà Bianco  (Etna)     White Blend   \n",
      "1           Quinta dos Avidagos 2011 Avidagos Red (Douro)  Portuguese Red   \n",
      "2           Rainstorm 2013 Pinot Gris (Willamette Valley)      Pinot Gris   \n",
      "3       St. Julian 2013 Reserve Late Harvest Riesling ...        Riesling   \n",
      "4       Sweet Cheeks 2012 Vintner's Reserve Wild Child...      Pinot Noir   \n",
      "...                                                   ...             ...   \n",
      "129966  Dr. H. Thanisch (Erben Müller-Burggraef) 2013 ...        Riesling   \n",
      "129967                  Citation 2004 Pinot Noir (Oregon)      Pinot Noir   \n",
      "129968  Domaine Gresser 2013 Kritt Gewurztraminer (Als...  Gewürztraminer   \n",
      "129969      Domaine Marcel Deiss 2012 Pinot Gris (Alsace)      Pinot Gris   \n",
      "129970  Domaine Schoffit 2012 Lieu-dit Harth Cuvée Car...  Gewürztraminer   \n",
      "\n",
      "                                          winery  \n",
      "0                                        Nicosia  \n",
      "1                            Quinta dos Avidagos  \n",
      "2                                      Rainstorm  \n",
      "3                                     St. Julian  \n",
      "4                                   Sweet Cheeks  \n",
      "...                                          ...  \n",
      "129966  Dr. H. Thanisch (Erben Müller-Burggraef)  \n",
      "129967                                  Citation  \n",
      "129968                           Domaine Gresser  \n",
      "129969                      Domaine Marcel Deiss  \n",
      "129970                          Domaine Schoffit  \n",
      "\n",
      "[129971 rows x 14 columns]\n"
     ]
    }
   ],
   "source": [
    "import pandas as pd\n",
    "R=pd.read_csv(\"boissons_evaluees.csv\")\n",
    "print(R)"
   ]
  },
  {
   "cell_type": "markdown",
   "id": "9947af27",
   "metadata": {},
   "source": [
    "## 2. Quelle est la médiane de la colonne points dans le DataFrame boisson ?"
   ]
  },
  {
   "cell_type": "code",
   "execution_count": 7,
   "id": "36a383f9",
   "metadata": {},
   "outputs": [
    {
     "name": "stdout",
     "output_type": "stream",
     "text": [
      "La mediane des valeurs est :  88.0\n"
     ]
    }
   ],
   "source": [
    "mediane = R.points.median() \n",
    "print(\"La mediane des valeurs est : \" ,mediane)"
   ]
  },
  {
   "cell_type": "markdown",
   "id": "706e4839",
   "metadata": {},
   "source": [
    "## 3. Quels sont les pays représentés dans l’ensemble de données ? (Votre réponse ne doit pas comporter de doublons).\n",
    "\n"
   ]
  },
  {
   "cell_type": "code",
   "execution_count": 8,
   "id": "bb84f562",
   "metadata": {},
   "outputs": [
    {
     "data": {
      "text/plain": [
       "array(['Italy', 'Portugal', 'US', 'Spain', 'France', 'Germany',\n",
       "       'Argentina', 'Chile', 'Australia', 'Austria', 'South Africa',\n",
       "       'New Zealand', 'Israel', 'Hungary', 'Greece', 'Romania', 'Mexico',\n",
       "       'Canada', nan, 'Turkey', 'Czech Republic', 'Slovenia',\n",
       "       'Luxembourg', 'Croatia', 'Georgia', 'Uruguay', 'England',\n",
       "       'Lebanon', 'Serbia', 'Brazil', 'Moldova', 'Morocco', 'Peru',\n",
       "       'India', 'Bulgaria', 'Cyprus', 'Armenia', 'Switzerland',\n",
       "       'Bosnia and Herzegovina', 'Ukraine', 'Slovakia', 'Macedonia',\n",
       "       'China', 'Egypt'], dtype=object)"
      ]
     },
     "execution_count": 8,
     "metadata": {},
     "output_type": "execute_result"
    }
   ],
   "source": [
    "R.country.unique()"
   ]
  },
  {
   "cell_type": "markdown",
   "id": "5a0bb54c",
   "metadata": {},
   "source": [
    "## 4. À quelle fréquence chaque pays figure-t-il dans l’ensemble des données ? Créez une Series de boisson_par_pays en faisant correspondre les pays au nombre de critiques de boisson de ce pays."
   ]
  },
  {
   "cell_type": "code",
   "execution_count": 9,
   "id": "aa031aef",
   "metadata": {},
   "outputs": [
    {
     "data": {
      "text/plain": [
       "US                        54504\n",
       "France                    22093\n",
       "Italy                     19540\n",
       "Spain                      6645\n",
       "Portugal                   5691\n",
       "Chile                      4472\n",
       "Argentina                  3800\n",
       "Austria                    3345\n",
       "Australia                  2329\n",
       "Germany                    2165\n",
       "New Zealand                1419\n",
       "South Africa               1401\n",
       "Israel                      505\n",
       "Greece                      466\n",
       "Canada                      257\n",
       "Hungary                     146\n",
       "Bulgaria                    141\n",
       "Romania                     120\n",
       "Uruguay                     109\n",
       "Turkey                       90\n",
       "Slovenia                     87\n",
       "Georgia                      86\n",
       "England                      74\n",
       "Croatia                      73\n",
       "Mexico                       70\n",
       "Moldova                      59\n",
       "Brazil                       52\n",
       "Lebanon                      35\n",
       "Morocco                      28\n",
       "Peru                         16\n",
       "Ukraine                      14\n",
       "Macedonia                    12\n",
       "Czech Republic               12\n",
       "Serbia                       12\n",
       "Cyprus                       11\n",
       "India                         9\n",
       "Switzerland                   7\n",
       "Luxembourg                    6\n",
       "Bosnia and Herzegovina        2\n",
       "Armenia                       2\n",
       "China                         1\n",
       "Slovakia                      1\n",
       "Egypt                         1\n",
       "Name: country, dtype: int64"
      ]
     },
     "execution_count": 9,
     "metadata": {},
     "output_type": "execute_result"
    }
   ],
   "source": [
    "Frequence=R.country.value_counts()\n",
    "Frequence"
   ]
  },
  {
   "cell_type": "code",
   "execution_count": 10,
   "id": "71149ee3",
   "metadata": {},
   "outputs": [
    {
     "data": {
      "text/plain": [
       "country\n",
       "Argentina                 18\n",
       "Armenia                    2\n",
       "Australia                 21\n",
       "Austria                   17\n",
       "Bosnia and Herzegovina     2\n",
       "Brazil                    10\n",
       "Bulgaria                  11\n",
       "Canada                    13\n",
       "Chile                     16\n",
       "China                      1\n",
       "Croatia                   11\n",
       "Cyprus                     4\n",
       "Czech Republic             5\n",
       "Egypt                      1\n",
       "England                    7\n",
       "France                    21\n",
       "Georgia                   10\n",
       "Germany                   18\n",
       "Greece                    12\n",
       "Hungary                   16\n",
       "India                      6\n",
       "Israel                    15\n",
       "Italy                     21\n",
       "Lebanon                   10\n",
       "Luxembourg                 3\n",
       "Macedonia                  6\n",
       "Mexico                    13\n",
       "Moldova                   10\n",
       "Morocco                    8\n",
       "New Zealand               16\n",
       "Peru                       7\n",
       "Portugal                  21\n",
       "Romania                   10\n",
       "Serbia                     4\n",
       "Slovakia                   1\n",
       "Slovenia                  11\n",
       "South Africa              14\n",
       "Spain                     19\n",
       "Switzerland                3\n",
       "Turkey                     9\n",
       "US                        21\n",
       "Ukraine                    6\n",
       "Uruguay                   13\n",
       "dtype: int64"
      ]
     },
     "execution_count": 10,
     "metadata": {},
     "output_type": "execute_result"
    }
   ],
   "source": [
    "from pandas import Series\n",
    "boisson_pays=R.groupby(\"country\").points.unique()\n",
    "boisson_pays\n",
    "critical=[]\n",
    "for i in range(len(boisson_pays.index)):\n",
    "    critical.append(len(boisson_pays[i]))\n",
    "boisson_series=Series(critical,index=boisson_pays.index)\n",
    "boisson_series"
   ]
  },
  {
   "cell_type": "markdown",
   "id": "990e26cb",
   "metadata": {},
   "source": [
    "## 5. Créez la variable prix_centre contenant une version de la colonne price avec le prix moyen soustrait. (Remarque : cette transformation de « centrage » est une étape de prétraitement courante avant l’application de divers algorithmes de Machine Learning). "
   ]
  },
  {
   "cell_type": "code",
   "execution_count": 11,
   "id": "72d46cf0",
   "metadata": {},
   "outputs": [
    {
     "name": "stdout",
     "output_type": "stream",
     "text": [
      "Le prix moyen est de:  0               NaN\n",
      "1        -20.363389\n",
      "2        -21.363389\n",
      "3        -22.363389\n",
      "4         29.636611\n",
      "            ...    \n",
      "129966    -7.363389\n",
      "129967    39.636611\n",
      "129968    -5.363389\n",
      "129969    -3.363389\n",
      "129970   -14.363389\n",
      "Name: price, Length: 129971, dtype: float64\n"
     ]
    }
   ],
   "source": [
    "import numpy as np\n",
    "price_mean=np.nanmean(R.price)\n",
    "prix_centre=R.price.map(lambda t: t -price_mean)\n",
    "print(\"Le prix moyen est de: \",prix_centre)"
   ]
  },
  {
   "cell_type": "markdown",
   "id": "f56cee7c",
   "metadata": {},
   "source": [
    "## 6. Je suis un acheteur de boisson. Quelle boisson est la meilleure affaire ? Créez une variable boisson_negociee avec le titre de la boisson ayant le meilleur rapport qualité/prix dans l’ensemble de données."
   ]
  },
  {
   "cell_type": "code",
   "execution_count": 12,
   "id": "a589192b",
   "metadata": {},
   "outputs": [
    {
     "name": "stderr",
     "output_type": "stream",
     "text": [
      "NumExpr defaulting to 8 threads.\n"
     ]
    },
    {
     "name": "stdout",
     "output_type": "stream",
     "text": [
      "La boisson presentant le meilleur rapport qualite_prix (egal a 21.5 )est ['Bandit NV Merlot (California)', 'Cramele Recas 2011 UnWineD Pinot Grigio (Viile Timisului)']\n"
     ]
    }
   ],
   "source": [
    "rapport=R.points/R.price\n",
    "imc=np.where(rapport.values==rapport.max())\n",
    "best=[]\n",
    "for i in range(len(imc[0])):\n",
    "    best.append(R.title[imc[0][i]])\n",
    "print(\"La boisson presentant le meilleur rapport qualite_prix (egal a\",rapport.max(),\")est\",best)"
   ]
  },
  {
   "cell_type": "markdown",
   "id": "5f73d6ce",
   "metadata": {},
   "source": [
    "# Exercice 3"
   ]
  },
  {
   "cell_type": "markdown",
   "id": "86e0e403",
   "metadata": {},
   "source": [
    "## On considère le fichier boissons_evaluees.csv."
   ]
  },
  {
   "cell_type": "code",
   "execution_count": 13,
   "id": "f600a7ac",
   "metadata": {},
   "outputs": [
    {
     "name": "stdout",
     "output_type": "stream",
     "text": [
      "C:\\Users\\User\\OneDrive\\Bureau\\WorkSpace19\n"
     ]
    }
   ],
   "source": [
    "# Importation du système\n",
    "import os\n",
    "# Récupération du répertoire de travail\n",
    "#(cwd : current working directory)\n",
    "cwd = os.getcwd()\n",
    "print(cwd)\n",
    "# Changement de répertoire\n",
    "os.chdir(\"C:\\\\Users\\\\User\\\\OneDrive\\\\Bureau\\\\WorkSpace19\")"
   ]
  },
  {
   "cell_type": "code",
   "execution_count": 14,
   "id": "096f421d",
   "metadata": {},
   "outputs": [
    {
     "name": "stdout",
     "output_type": "stream",
     "text": [
      "        Unnamed: 0   country  \\\n",
      "0                0     Italy   \n",
      "1                1  Portugal   \n",
      "2                2        US   \n",
      "3                3        US   \n",
      "4                4        US   \n",
      "...            ...       ...   \n",
      "129966      129966   Germany   \n",
      "129967      129967        US   \n",
      "129968      129968    France   \n",
      "129969      129969    France   \n",
      "129970      129970    France   \n",
      "\n",
      "                                              description  \\\n",
      "0       Aromas include tropical fruit, broom, brimston...   \n",
      "1       This is ripe and fruity, a wine that is smooth...   \n",
      "2       Tart and snappy, the flavors of lime flesh and...   \n",
      "3       Pineapple rind, lemon pith and orange blossom ...   \n",
      "4       Much like the regular bottling from 2012, this...   \n",
      "...                                                   ...   \n",
      "129966  Notes of honeysuckle and cantaloupe sweeten th...   \n",
      "129967  Citation is given as much as a decade of bottl...   \n",
      "129968  Well-drained gravel soil gives this wine its c...   \n",
      "129969  A dry style of Pinot Gris, this is crisp with ...   \n",
      "129970  Big, rich and off-dry, this is powered by inte...   \n",
      "\n",
      "                                   designation  points  price  \\\n",
      "0                                 Vulkà Bianco      87    NaN   \n",
      "1                                     Avidagos      87   15.0   \n",
      "2                                          NaN      87   14.0   \n",
      "3                         Reserve Late Harvest      87   13.0   \n",
      "4           Vintner's Reserve Wild Child Block      87   65.0   \n",
      "...                                        ...     ...    ...   \n",
      "129966  Brauneberger Juffer-Sonnenuhr Spätlese      90   28.0   \n",
      "129967                                     NaN      90   75.0   \n",
      "129968                                   Kritt      90   30.0   \n",
      "129969                                     NaN      90   32.0   \n",
      "129970           Lieu-dit Harth Cuvée Caroline      90   21.0   \n",
      "\n",
      "                 province             region_1           region_2  \\\n",
      "0       Sicily & Sardinia                 Etna                NaN   \n",
      "1                   Douro                  NaN                NaN   \n",
      "2                  Oregon    Willamette Valley  Willamette Valley   \n",
      "3                Michigan  Lake Michigan Shore                NaN   \n",
      "4                  Oregon    Willamette Valley  Willamette Valley   \n",
      "...                   ...                  ...                ...   \n",
      "129966              Mosel                  NaN                NaN   \n",
      "129967             Oregon               Oregon       Oregon Other   \n",
      "129968             Alsace               Alsace                NaN   \n",
      "129969             Alsace               Alsace                NaN   \n",
      "129970             Alsace               Alsace                NaN   \n",
      "\n",
      "               taster_name taster_twitter_handle  \\\n",
      "0            Kerin O’Keefe          @kerinokeefe   \n",
      "1               Roger Voss            @vossroger   \n",
      "2             Paul Gregutt           @paulgwine    \n",
      "3       Alexander Peartree                   NaN   \n",
      "4             Paul Gregutt           @paulgwine    \n",
      "...                    ...                   ...   \n",
      "129966  Anna Lee C. Iijima                   NaN   \n",
      "129967        Paul Gregutt           @paulgwine    \n",
      "129968          Roger Voss            @vossroger   \n",
      "129969          Roger Voss            @vossroger   \n",
      "129970          Roger Voss            @vossroger   \n",
      "\n",
      "                                                    title         variety  \\\n",
      "0                       Nicosia 2013 Vulkà Bianco  (Etna)     White Blend   \n",
      "1           Quinta dos Avidagos 2011 Avidagos Red (Douro)  Portuguese Red   \n",
      "2           Rainstorm 2013 Pinot Gris (Willamette Valley)      Pinot Gris   \n",
      "3       St. Julian 2013 Reserve Late Harvest Riesling ...        Riesling   \n",
      "4       Sweet Cheeks 2012 Vintner's Reserve Wild Child...      Pinot Noir   \n",
      "...                                                   ...             ...   \n",
      "129966  Dr. H. Thanisch (Erben Müller-Burggraef) 2013 ...        Riesling   \n",
      "129967                  Citation 2004 Pinot Noir (Oregon)      Pinot Noir   \n",
      "129968  Domaine Gresser 2013 Kritt Gewurztraminer (Als...  Gewürztraminer   \n",
      "129969      Domaine Marcel Deiss 2012 Pinot Gris (Alsace)      Pinot Gris   \n",
      "129970  Domaine Schoffit 2012 Lieu-dit Harth Cuvée Car...  Gewürztraminer   \n",
      "\n",
      "                                          winery  \n",
      "0                                        Nicosia  \n",
      "1                            Quinta dos Avidagos  \n",
      "2                                      Rainstorm  \n",
      "3                                     St. Julian  \n",
      "4                                   Sweet Cheeks  \n",
      "...                                          ...  \n",
      "129966  Dr. H. Thanisch (Erben Müller-Burggraef)  \n",
      "129967                                  Citation  \n",
      "129968                           Domaine Gresser  \n",
      "129969                      Domaine Marcel Deiss  \n",
      "129970                          Domaine Schoffit  \n",
      "\n",
      "[129971 rows x 14 columns]\n"
     ]
    }
   ],
   "source": [
    "import pandas as pd\n",
    "R=pd.read_csv(\"boissons_evaluees.csv\")\n",
    "print(R)"
   ]
  },
  {
   "cell_type": "markdown",
   "id": "c8ced192",
   "metadata": {},
   "source": [
    "## 1. Quels sont les critiques de boisson les plus fréquentes dans l’ensemble des données ? Créez une Series dont l’index est la catégorie taster_twitter_handle de l’ensemble de données, et dont les valeurs comptent le nombre de critiques que chaque personne a rédigées."
   ]
  },
  {
   "cell_type": "code",
   "execution_count": 15,
   "id": "8997b7b3",
   "metadata": {},
   "outputs": [
    {
     "data": {
      "text/plain": [
       "88    17207\n",
       "87    16933\n",
       "90    15410\n",
       "86    12600\n",
       "89    12226\n",
       "Name: points, dtype: int64"
      ]
     },
     "execution_count": 15,
     "metadata": {},
     "output_type": "execute_result"
    }
   ],
   "source": [
    "d2=R.points.value_counts()\n",
    "df= d2.iloc[0:5]\n",
    "df"
   ]
  },
  {
   "cell_type": "code",
   "execution_count": 16,
   "id": "05272759",
   "metadata": {},
   "outputs": [
    {
     "data": {
      "text/plain": [
       "taster_twitter_handle\n",
       "@AnneInVino         17\n",
       "@JoeCz              21\n",
       "@bkfiona             7\n",
       "@gordone_cellars    18\n",
       "@kerinokeefe        21\n",
       "@laurbuzz           15\n",
       "@mattkettmann       17\n",
       "@paulgwine          21\n",
       "@suskostrzewa       15\n",
       "@vboone             20\n",
       "@vossroger          21\n",
       "@wawinereport       18\n",
       "@wineschach         19\n",
       "@winewchristina      4\n",
       "@worldwineguys      16\n",
       "dtype: int64"
      ]
     },
     "execution_count": 16,
     "metadata": {},
     "output_type": "execute_result"
    }
   ],
   "source": [
    "from pandas import Series# On peut tout importer des le debut de l'exercice\n",
    "Twitt=R.groupby(\"taster_twitter_handle\").points.unique()\n",
    "critique=[]\n",
    "for i in range(len(Twitt.index)):\n",
    "    critique.append(len(Twitt[i]))\n",
    "boisson=Series(critique,index=Twitt.index)\n",
    "boisson"
   ]
  },
  {
   "cell_type": "markdown",
   "id": "389bf7dd",
   "metadata": {},
   "source": [
    "## 2. Quelle est la meilleure boisson que je puisse acheter pour une somme donnée ? Créez une Series dont l’indice est le prix de la boisson et dont la valeur est le nombre maximum de points qu’une boisson coûtant le même prix a obtenu dans une critique. Trier les valeurs par prix, en ordre croissant.\n"
   ]
  },
  {
   "cell_type": "code",
   "execution_count": 17,
   "id": "74d52fb0",
   "metadata": {},
   "outputs": [
    {
     "name": "stdout",
     "output_type": "stream",
     "text": [
      "Entrer le prix de la boisson: 12\n"
     ]
    },
    {
     "data": {
      "text/html": [
       "<div><div id=8cc82b0f-5c01-4b09-85d5-351cdcbc4a0f style=\"display:none; background-color:#9D6CFF; color:white; width:200px; height:30px; padding-left:5px; border-radius:4px; flex-direction:row; justify-content:space-around; align-items:center;\" onmouseover=\"this.style.backgroundColor='#BA9BF8'\" onmouseout=\"this.style.backgroundColor='#9D6CFF'\" onclick=\"window.commands?.execute('create-mitosheet-from-dataframe-output');\">See Full Dataframe in Mito</div> <script> if (window.commands.hasCommand('create-mitosheet-from-dataframe-output')) document.getElementById('8cc82b0f-5c01-4b09-85d5-351cdcbc4a0f').style.display = 'flex' </script> <table border=\"1\" class=\"dataframe\">\n",
       "  <thead>\n",
       "    <tr style=\"text-align: right;\">\n",
       "      <th></th>\n",
       "      <th>Unnamed: 0</th>\n",
       "      <th>country</th>\n",
       "      <th>me</th>\n",
       "      <th>description</th>\n",
       "      <th>designation</th>\n",
       "      <th>points</th>\n",
       "      <th>price</th>\n",
       "      <th>province</th>\n",
       "      <th>region_1</th>\n",
       "      <th>region_2</th>\n",
       "      <th>taster_name</th>\n",
       "      <th>taster_twitter_handle</th>\n",
       "      <th>title</th>\n",
       "      <th>variety</th>\n",
       "      <th>winery</th>\n",
       "    </tr>\n",
       "  </thead>\n",
       "  <tbody>\n",
       "    <tr>\n",
       "      <th>64590</th>\n",
       "      <td>64590</td>\n",
       "      <td>US</td>\n",
       "      <td>21.5</td>\n",
       "      <td>There's a lot going on in this Merlot, which is likeable now for its rich blackberry, cherry, cranberry, cola and spice flavors. It's dry and balanced.</td>\n",
       "      <td>NaN</td>\n",
       "      <td>86</td>\n",
       "      <td>4.0</td>\n",
       "      <td>California</td>\n",
       "      <td>California</td>\n",
       "      <td>California Other</td>\n",
       "      <td>NaN</td>\n",
       "      <td>NaN</td>\n",
       "      <td>Bandit NV Merlot (California)</td>\n",
       "      <td>Merlot</td>\n",
       "      <td>Bandit</td>\n",
       "    </tr>\n",
       "    <tr>\n",
       "      <th>126096</th>\n",
       "      <td>126096</td>\n",
       "      <td>Romania</td>\n",
       "      <td>21.5</td>\n",
       "      <td>Notes of sun-dried hay and green flower highlight the nose and palate of this fresh, easy-quaffing wine. Concentrated tangerine and pineapple flavors are brisk and tasty.</td>\n",
       "      <td>UnWineD</td>\n",
       "      <td>86</td>\n",
       "      <td>4.0</td>\n",
       "      <td>Viile Timisului</td>\n",
       "      <td>NaN</td>\n",
       "      <td>NaN</td>\n",
       "      <td>Anna Lee C. Iijima</td>\n",
       "      <td>NaN</td>\n",
       "      <td>Cramele Recas 2011 UnWineD Pinot Grigio (Viile Timisului)</td>\n",
       "      <td>Pinot Grigio</td>\n",
       "      <td>Cramele Recas</td>\n",
       "    </tr>\n",
       "  </tbody>\n",
       "</table></div>"
      ],
      "text/plain": [
       "        Unnamed: 0  country    me  \\\n",
       "64590        64590       US  21.5   \n",
       "126096      126096  Romania  21.5   \n",
       "\n",
       "                                              description designation  points  \\\n",
       "64590   There's a lot going on in this Merlot, which i...         NaN      86   \n",
       "126096  Notes of sun-dried hay and green flower highli...     UnWineD      86   \n",
       "\n",
       "        price         province    region_1          region_2  \\\n",
       "64590     4.0       California  California  California Other   \n",
       "126096    4.0  Viile Timisului         NaN               NaN   \n",
       "\n",
       "               taster_name taster_twitter_handle  \\\n",
       "64590                  NaN                   NaN   \n",
       "126096  Anna Lee C. Iijima                   NaN   \n",
       "\n",
       "                                                    title       variety  \\\n",
       "64590                       Bandit NV Merlot (California)        Merlot   \n",
       "126096  Cramele Recas 2011 UnWineD Pinot Grigio (Viile...  Pinot Grigio   \n",
       "\n",
       "               winery  \n",
       "64590          Bandit  \n",
       "126096  Cramele Recas  "
      ]
     },
     "execution_count": 17,
     "metadata": {},
     "output_type": "execute_result"
    }
   ],
   "source": [
    "import numpy as np\n",
    "x=int(input(\"Entrer le prix de la boisson: \"))\n",
    "g=R.loc[R.loc[:,\"price\"]<=x]#Creation d'un nouveau DataFrame dans lequel la valeur des prix est inferieure au prix saisi.\n",
    "rapport=g.points/g.price#Calcul du rapport qualite/prix.\n",
    "g.insert(2,\"me\",rapport,allow_duplicates=False)#Creation d'une nouvelle colonne du DataFrame.\n",
    "Boi=g.loc[g.loc[:,\"me\",]==np.nanmax(rapport)]#Creation d'un nouveau DataFrame dans lequel on ne prend que les(2) plus grand rapport qualite/prix.\n",
    "Boi.title#Ceci permet un affichage classique.\n",
    "Boi#Ceci permet un affichage sous forme de DataFrame"
   ]
  },
  {
   "cell_type": "code",
   "execution_count": 18,
   "id": "8e691208",
   "metadata": {},
   "outputs": [
    {
     "data": {
      "text/plain": [
       "price\n",
       "4.0       86\n",
       "5.0       87\n",
       "6.0       88\n",
       "7.0       91\n",
       "8.0       91\n",
       "          ..\n",
       "1900.0    98\n",
       "2000.0    97\n",
       "2013.0    91\n",
       "2500.0    96\n",
       "3300.0    88\n",
       "Name: points, Length: 390, dtype: int64"
      ]
     },
     "execution_count": 18,
     "metadata": {},
     "output_type": "execute_result"
    }
   ],
   "source": [
    "boisson=R.groupby(\"price\").points.max()\n",
    "boisson_trie=boisson.sort_values()\n",
    "boisson"
   ]
  },
  {
   "cell_type": "markdown",
   "id": "d180e659",
   "metadata": {},
   "source": [
    "## 3. Quels sont les prix minimum et maximum pour chaque cépage (variety) de boisson ? Créez un DataFrame dont l’indice est la catégorie variety de l’ensemble de données et dont les valeurs sont les valeurs min et max de celui-ci."
   ]
  },
  {
   "cell_type": "code",
   "execution_count": 19,
   "id": "61c2b3a1",
   "metadata": {},
   "outputs": [
    {
     "name": "stdout",
     "output_type": "stream",
     "text": [
      "Les valeurs maximales:  variety\n",
      "Abouriou        75.0\n",
      "Agiorgitiko     66.0\n",
      "Aglianico      180.0\n",
      "Aidani          27.0\n",
      "Airen           10.0\n",
      "               ...  \n",
      "Zinfandel      100.0\n",
      "Zlahtina        16.0\n",
      "Zweigelt        70.0\n",
      "Çalkarası       19.0\n",
      "Žilavka         15.0\n",
      "Name: price, Length: 707, dtype: float64\n",
      "Les valeurs minimales:  variety\n",
      "Abouriou       15.0\n",
      "Agiorgitiko    10.0\n",
      "Aglianico       6.0\n",
      "Aidani         27.0\n",
      "Airen           8.0\n",
      "               ... \n",
      "Zinfandel       5.0\n",
      "Zlahtina       13.0\n",
      "Zweigelt        9.0\n",
      "Çalkarası      19.0\n",
      "Žilavka        15.0\n",
      "Name: price, Length: 707, dtype: float64\n"
     ]
    }
   ],
   "source": [
    "maximal=R.groupby(\"variety\").price.max()\n",
    "print(\"Les valeurs maximales: \",maximal)\n",
    "minimal=R.groupby(\"variety\").price.min()\n",
    "print(\"Les valeurs minimales: \",minimal)"
   ]
  },
  {
   "cell_type": "code",
   "execution_count": 20,
   "id": "ab052e46",
   "metadata": {},
   "outputs": [
    {
     "data": {
      "text/html": [
       "<div><div id=4e9a351c-95b1-472f-a2f0-25c644b12aec style=\"display:none; background-color:#9D6CFF; color:white; width:200px; height:30px; padding-left:5px; border-radius:4px; flex-direction:row; justify-content:space-around; align-items:center;\" onmouseover=\"this.style.backgroundColor='#BA9BF8'\" onmouseout=\"this.style.backgroundColor='#9D6CFF'\" onclick=\"window.commands?.execute('create-mitosheet-from-dataframe-output');\">See Full Dataframe in Mito</div> <script> if (window.commands.hasCommand('create-mitosheet-from-dataframe-output')) document.getElementById('4e9a351c-95b1-472f-a2f0-25c644b12aec').style.display = 'flex' </script> <table border=\"1\" class=\"dataframe\">\n",
       "  <thead>\n",
       "    <tr style=\"text-align: right;\">\n",
       "      <th></th>\n",
       "      <th>max</th>\n",
       "      <th>min</th>\n",
       "    </tr>\n",
       "    <tr>\n",
       "      <th>variety</th>\n",
       "      <th></th>\n",
       "      <th></th>\n",
       "    </tr>\n",
       "  </thead>\n",
       "  <tbody>\n",
       "    <tr>\n",
       "      <th>Abouriou</th>\n",
       "      <td>75.0</td>\n",
       "      <td>15.0</td>\n",
       "    </tr>\n",
       "    <tr>\n",
       "      <th>Agiorgitiko</th>\n",
       "      <td>66.0</td>\n",
       "      <td>10.0</td>\n",
       "    </tr>\n",
       "    <tr>\n",
       "      <th>Aglianico</th>\n",
       "      <td>180.0</td>\n",
       "      <td>6.0</td>\n",
       "    </tr>\n",
       "    <tr>\n",
       "      <th>Aidani</th>\n",
       "      <td>27.0</td>\n",
       "      <td>27.0</td>\n",
       "    </tr>\n",
       "    <tr>\n",
       "      <th>Airen</th>\n",
       "      <td>10.0</td>\n",
       "      <td>8.0</td>\n",
       "    </tr>\n",
       "    <tr>\n",
       "      <th>...</th>\n",
       "      <td>...</td>\n",
       "      <td>...</td>\n",
       "    </tr>\n",
       "    <tr>\n",
       "      <th>Zinfandel</th>\n",
       "      <td>100.0</td>\n",
       "      <td>5.0</td>\n",
       "    </tr>\n",
       "    <tr>\n",
       "      <th>Zlahtina</th>\n",
       "      <td>16.0</td>\n",
       "      <td>13.0</td>\n",
       "    </tr>\n",
       "    <tr>\n",
       "      <th>Zweigelt</th>\n",
       "      <td>70.0</td>\n",
       "      <td>9.0</td>\n",
       "    </tr>\n",
       "    <tr>\n",
       "      <th>Çalkarası</th>\n",
       "      <td>19.0</td>\n",
       "      <td>19.0</td>\n",
       "    </tr>\n",
       "    <tr>\n",
       "      <th>Žilavka</th>\n",
       "      <td>15.0</td>\n",
       "      <td>15.0</td>\n",
       "    </tr>\n",
       "  </tbody>\n",
       "</table></div>"
      ],
      "text/plain": [
       "               max   min\n",
       "variety                 \n",
       "Abouriou      75.0  15.0\n",
       "Agiorgitiko   66.0  10.0\n",
       "Aglianico    180.0   6.0\n",
       "Aidani        27.0  27.0\n",
       "Airen         10.0   8.0\n",
       "...            ...   ...\n",
       "Zinfandel    100.0   5.0\n",
       "Zlahtina      16.0  13.0\n",
       "Zweigelt      70.0   9.0\n",
       "Çalkarası     19.0  19.0\n",
       "Žilavka       15.0  15.0\n",
       "\n",
       "[707 rows x 2 columns]"
      ]
     },
     "execution_count": 20,
     "metadata": {},
     "output_type": "execute_result"
    }
   ],
   "source": [
    "df=pd.DataFrame({\"max\":maximal,\"min\":minimal})\n",
    "df"
   ]
  },
  {
   "cell_type": "markdown",
   "id": "564ad5d4",
   "metadata": {},
   "source": [
    "## 4. Créer une Series dont l’indice est celui des « commentateurs » et dont la valeur est la note moyenne de l’examen donné par ce « commentateur ». Astuce : vous aurez besoin des colonnes taster_name et points."
   ]
  },
  {
   "cell_type": "code",
   "execution_count": null,
   "id": "3a456ceb",
   "metadata": {},
   "outputs": [],
   "source": []
  },
  {
   "cell_type": "code",
   "execution_count": 21,
   "id": "3764a320",
   "metadata": {},
   "outputs": [
    {
     "data": {
      "text/plain": [
       "variety\n",
       "Abouriou       87.666667\n",
       "Agiorgitiko    87.031746\n",
       "Aglianico      89.275766\n",
       "Aidani         82.000000\n",
       "Airen          81.666667\n",
       "                 ...    \n",
       "Zinfandel      87.828666\n",
       "Zlahtina       86.000000\n",
       "Zweigelt       88.296651\n",
       "Çalkarası      86.500000\n",
       "Žilavka        88.000000\n",
       "Name: points, Length: 707, dtype: float64"
      ]
     },
     "execution_count": 21,
     "metadata": {},
     "output_type": "execute_result"
    }
   ],
   "source": [
    "R.groupby(\"variety\").points.mean()"
   ]
  },
  {
   "cell_type": "markdown",
   "id": "44f803af",
   "metadata": {},
   "source": [
    "## 5. Quel est le type de données de la colonne points dans l’ensemble de données ?"
   ]
  },
  {
   "cell_type": "code",
   "execution_count": 22,
   "id": "4ed435c0",
   "metadata": {},
   "outputs": [
    {
     "data": {
      "text/plain": [
       "dtype('int64')"
      ]
     },
     "execution_count": 22,
     "metadata": {},
     "output_type": "execute_result"
    }
   ],
   "source": [
    "R.points.dtype"
   ]
  },
  {
   "cell_type": "markdown",
   "id": "b56c2557",
   "metadata": {},
   "source": [
    "## 6. Parfois, la colonne price est nulle. A combien d’avis dans l’ensemble de données manque-t-il un prix?"
   ]
  },
  {
   "cell_type": "code",
   "execution_count": 23,
   "id": "87cae30b",
   "metadata": {},
   "outputs": [
    {
     "name": "stdout",
     "output_type": "stream",
     "text": [
      "Sur 129971 avis il manque 8996\n"
     ]
    }
   ],
   "source": [
    "prix=R[pd.isnull(R.price)]\n",
    "print(\"Sur\",len(R),\"avis il manque\",len(prix))"
   ]
  },
  {
   "cell_type": "code",
   "execution_count": null,
   "id": "239cc2a1",
   "metadata": {},
   "outputs": [],
   "source": []
  }
 ],
 "metadata": {
  "kernelspec": {
   "display_name": "Python 3",
   "language": "python",
   "name": "python3"
  },
  "language_info": {
   "codemirror_mode": {
    "name": "ipython",
    "version": 3
   },
   "file_extension": ".py",
   "mimetype": "text/x-python",
   "name": "python",
   "nbconvert_exporter": "python",
   "pygments_lexer": "ipython3",
   "version": "3.8.8"
  }
 },
 "nbformat": 4,
 "nbformat_minor": 5
}
